{
 "cells": [
  {
   "cell_type": "markdown",
   "metadata": {},
   "source": [
    "# Opponent Cosine Similarities\n",
    "For each tourney matchup, \n",
    "calculate most similar teams to opponent (Team 2) that have played against team 1 in regular season \n",
    "calculate the win rate for Team 1 against these similar teams\n"
   ]
  },
  {
   "cell_type": "code",
   "execution_count": 1,
   "metadata": {},
   "outputs": [],
   "source": [
    "import pandas as pd\n",
    "from sklearn import metrics\n",
    "import numpy as np\n",
    "\n",
    "from sklearn import preprocessing\n",
    "our_data_dir = '/Users/hannahparker/march_madness/data/our_data/'\n",
    "kaggle_data_dir = '/Users/hannahparker/march_madness/data/MDataFiles_Stage1/'"
   ]
  },
  {
   "cell_type": "code",
   "execution_count": 2,
   "metadata": {},
   "outputs": [],
   "source": [
    "regular_season = pd.read_csv(kaggle_data_dir + 'MRegularSeasonCompactResults.csv')"
   ]
  },
  {
   "cell_type": "code",
   "execution_count": 3,
   "metadata": {},
   "outputs": [],
   "source": [
    "season_summary = pd.read_csv(our_data_dir + 'season_summary.csv')\n",
    "season_summary = season_summary.rename(columns={'name':'TeamName',\n",
    "                       'year':'Season'})\n",
    "\n",
    "tourney_df = pd.read_csv(our_data_dir + 'tourney_h2h.csv')"
   ]
  },
  {
   "cell_type": "code",
   "execution_count": 9,
   "metadata": {},
   "outputs": [],
   "source": [
    "cosine_cols = ['adjd',\n",
    " 'adjemn',\n",
    " 'adjo',\n",
    " 'adjt',\n",
    " 'Ast',\n",
    " 'Blk',\n",
    " 'DR',\n",
    " 'FG3P',\n",
    " 'FGA',\n",
    " 'FGA3',\n",
    " 'FGM',\n",
    " 'FGM3',\n",
    " 'FGP',\n",
    " 'FTA',\n",
    " 'FTM',\n",
    " 'FTP',\n",
    " 'L',\n",
    "#  'L_tourney',\n",
    " 'luck',\n",
    " 'oppds',\n",
    " 'opponent_Ast',\n",
    " 'opponent_Blk',\n",
    " 'opponent_DR',\n",
    " 'opponent_FG3P',\n",
    " 'opponent_FGA',\n",
    " 'opponent_FGA3',\n",
    " 'opponent_FGM',\n",
    " 'opponent_FGM3',\n",
    " 'opponent_FGP',\n",
    " 'opponent_FTA',\n",
    " 'opponent_FTM',\n",
    " 'opponent_FTP',\n",
    " 'opponent_OR',\n",
    " 'opponent_PF',\n",
    " 'opponent_Score',\n",
    " 'opponent_Stl',\n",
    " 'opponent_TO',\n",
    "#  'oppos',\n",
    " 'OR',\n",
    " 'PF',\n",
    " 'Score',\n",
    "#  'Seed',\n",
    "#  'Stl',\n",
    "#  'TO',\n",
    "#  'W',\n",
    "#  'W_tourney',\n",
    " 'WP',\n",
    " 'WP_5']"
   ]
  },
  {
   "cell_type": "code",
   "execution_count": 10,
   "metadata": {},
   "outputs": [],
   "source": [
    "# season_summary = season_summary.dropna()"
   ]
  },
  {
   "cell_type": "code",
   "execution_count": 11,
   "metadata": {},
   "outputs": [
    {
     "name": "stdout",
     "output_type": "stream",
     "text": [
      "<class 'pandas.core.frame.DataFrame'>\n",
      "RangeIndex: 5827 entries, 0 to 5826\n",
      "Data columns (total 41 columns):\n",
      "adjd              5823 non-null float64\n",
      "adjemn            5823 non-null float64\n",
      "adjo              5823 non-null float64\n",
      "adjt              5823 non-null float64\n",
      "Ast               5827 non-null float64\n",
      "Blk               5827 non-null float64\n",
      "DR                5827 non-null float64\n",
      "FG3P              5827 non-null float64\n",
      "FGA               5827 non-null float64\n",
      "FGA3              5827 non-null float64\n",
      "FGM               5827 non-null float64\n",
      "FGM3              5827 non-null float64\n",
      "FGP               5827 non-null float64\n",
      "FTA               5827 non-null float64\n",
      "FTM               5827 non-null float64\n",
      "FTP               5827 non-null float64\n",
      "L                 5827 non-null int64\n",
      "luck              5823 non-null float64\n",
      "oppds             5823 non-null float64\n",
      "opponent_Ast      5827 non-null float64\n",
      "opponent_Blk      5827 non-null float64\n",
      "opponent_DR       5827 non-null float64\n",
      "opponent_FG3P     5827 non-null float64\n",
      "opponent_FGA      5827 non-null float64\n",
      "opponent_FGA3     5827 non-null float64\n",
      "opponent_FGM      5827 non-null float64\n",
      "opponent_FGM3     5827 non-null float64\n",
      "opponent_FGP      5827 non-null float64\n",
      "opponent_FTA      5827 non-null float64\n",
      "opponent_FTM      5827 non-null float64\n",
      "opponent_FTP      5827 non-null float64\n",
      "opponent_OR       5827 non-null float64\n",
      "opponent_PF       5827 non-null float64\n",
      "opponent_Score    5827 non-null float64\n",
      "opponent_Stl      5827 non-null float64\n",
      "opponent_TO       5827 non-null float64\n",
      "OR                5827 non-null float64\n",
      "PF                5827 non-null float64\n",
      "Score             5827 non-null float64\n",
      "WP                5827 non-null float64\n",
      "WP_5              5827 non-null float64\n",
      "dtypes: float64(40), int64(1)\n",
      "memory usage: 1.8 MB\n"
     ]
    }
   ],
   "source": [
    "season_summary[cosine_cols].info()"
   ]
  },
  {
   "cell_type": "code",
   "execution_count": 12,
   "metadata": {},
   "outputs": [
    {
     "name": "stdout",
     "output_type": "stream",
     "text": [
      "<class 'pandas.core.frame.DataFrame'>\n",
      "Int64Index: 17 entries, 1426 to 1442\n",
      "Data columns (total 41 columns):\n",
      "adjd              17 non-null float64\n",
      "adjemn            17 non-null float64\n",
      "adjo              17 non-null float64\n",
      "adjt              17 non-null float64\n",
      "Ast               17 non-null float64\n",
      "Blk               17 non-null float64\n",
      "DR                17 non-null float64\n",
      "FG3P              17 non-null float64\n",
      "FGA               17 non-null float64\n",
      "FGA3              17 non-null float64\n",
      "FGM               17 non-null float64\n",
      "FGM3              17 non-null float64\n",
      "FGP               17 non-null float64\n",
      "FTA               17 non-null float64\n",
      "FTM               17 non-null float64\n",
      "FTP               17 non-null float64\n",
      "L                 17 non-null int64\n",
      "luck              17 non-null float64\n",
      "oppds             17 non-null float64\n",
      "opponent_Ast      17 non-null float64\n",
      "opponent_Blk      17 non-null float64\n",
      "opponent_DR       17 non-null float64\n",
      "opponent_FG3P     17 non-null float64\n",
      "opponent_FGA      17 non-null float64\n",
      "opponent_FGA3     17 non-null float64\n",
      "opponent_FGM      17 non-null float64\n",
      "opponent_FGM3     17 non-null float64\n",
      "opponent_FGP      17 non-null float64\n",
      "opponent_FTA      17 non-null float64\n",
      "opponent_FTM      17 non-null float64\n",
      "opponent_FTP      17 non-null float64\n",
      "opponent_OR       17 non-null float64\n",
      "opponent_PF       17 non-null float64\n",
      "opponent_Score    17 non-null float64\n",
      "opponent_Stl      17 non-null float64\n",
      "opponent_TO       17 non-null float64\n",
      "OR                17 non-null float64\n",
      "PF                17 non-null float64\n",
      "Score             17 non-null float64\n",
      "WP                17 non-null float64\n",
      "WP_5              17 non-null float64\n",
      "dtypes: float64(40), int64(1)\n",
      "memory usage: 5.6 KB\n"
     ]
    }
   ],
   "source": [
    "season_summary.loc[season_summary.TeamID == 1192][cosine_cols].info()"
   ]
  },
  {
   "cell_type": "code",
   "execution_count": 13,
   "metadata": {},
   "outputs": [],
   "source": [
    "n=10\n",
    "\n",
    "def get_win_rate_similar_opponents(row, team = 'team1', opponent='team2'):\n",
    "    year = row['Season']\n",
    "    team = row['{team}_TeamID'.format(team=team)]\n",
    "#     print(team, row['{opponent}_TeamID'.format(opponent=opponent)], year)\n",
    "    opponent = row['{opponent}_TeamID'.format(opponent=opponent)]\n",
    "    reg_season_opponents = regular_season.loc[(regular_season.Season == year)\n",
    "                                             & ((regular_season.WTeamID == team) |\n",
    "                                                (regular_season.LTeamID == team))]\n",
    "    \n",
    "    reg_season_opponents = reg_season_opponents['WTeamID'].unique().tolist() + reg_season_opponents['LTeamID'].unique().tolist()\n",
    "\n",
    "    subset = season_summary.loc[(season_summary.Season == year)\n",
    "                           & (season_summary.TeamID.isin(reg_season_opponents + [opponent]))][['TeamID'] + cosine_cols].dropna()\n",
    "    X = subset[cosine_cols]\n",
    "    X = X\n",
    "    min_max_scaler = preprocessing.MinMaxScaler()\n",
    "    x_scaled = min_max_scaler.fit_transform(X.values)\n",
    "    cosinedf = pd.DataFrame(x_scaled)\n",
    "\n",
    "    cosine_sims = pd.DataFrame(metrics.pairwise.cosine_similarity(cosinedf, Y=None, dense_output=True))\n",
    "\n",
    "    cosine_sims.columns = subset.TeamID.tolist()\n",
    "    cosine_sims['Team'] = subset.TeamID.values\n",
    "    cosine_sims = cosine_sims.loc[cosine_sims[opponent] >= .8]\n",
    "    top_n = cosine_sims[['Team',opponent]].sort_values(by=opponent,ascending=False)[0:n]\n",
    "    top_n.columns= ['Similar Team','Cosine']\n",
    "    top_n['Team'] = opponent\n",
    "    similar_teams = top_n['Similar Team'].unique().tolist()\n",
    "\n",
    "    n_wins = regular_season.loc[(regular_season.WTeamID == team)\n",
    "                            & (regular_season.LTeamID.isin(similar_teams))\n",
    "                            & (regular_season.Season == year)]\n",
    "    \n",
    "    n_losses = regular_season.loc[(regular_season.LTeamID == team)\n",
    "                            & (regular_season.WTeamID.isin(similar_teams))\n",
    "                            & (regular_season.Season == year)]\n",
    "\n",
    "    try:\n",
    "        row['pct_wins_similar'] = n_wins.shape[0] / (n_wins.shape[0] + n_losses.shape[0])\n",
    "        row['n_wins'] = n_wins.shape[0]\n",
    "    except Exception as e:\n",
    "        row['pct_wins_similar'] = np.nan\n",
    "        row['n_wins'] = 0\n",
    "    return row[['pct_wins_similar','n_wins']]\n",
    "\n",
    "\n"
   ]
  },
  {
   "cell_type": "code",
   "execution_count": 14,
   "metadata": {},
   "outputs": [],
   "source": [
    "tourney_df[['team1_pct_wins_similar','team1_n_wins_similar']] = tourney_df.apply(lambda row: get_win_rate_similar_opponents(row,\n",
    "                                                                                                    team = 'team1', \n",
    "                                                                                                    opponent='team2'), \n",
    "                                                         axis=1)\n"
   ]
  },
  {
   "cell_type": "code",
   "execution_count": 15,
   "metadata": {},
   "outputs": [],
   "source": [
    "tourney_df[['team2_pct_wins_similar','team2_n_wins_similar']]  = tourney_df.apply(lambda row: get_win_rate_similar_opponents(row,\n",
    "                                                                                                    team = 'team2', \n",
    "                                                                                                    opponent='team1'), \n",
    "                                                             axis=1)\n"
   ]
  },
  {
   "cell_type": "code",
   "execution_count": 16,
   "metadata": {},
   "outputs": [],
   "source": [
    "tourney_df['team1_win_rate_dif'] = (tourney_df['team1_pct_wins_similar'] - tourney_df['team1_WP']).astype(float)\n",
    "tourney_df['team2_win_rate_dif'] = tourney_df['team2_pct_wins_similar'] - tourney_df['team2_WP']"
   ]
  },
  {
   "cell_type": "code",
   "execution_count": 28,
   "metadata": {},
   "outputs": [
    {
     "data": {
      "image/png": "[encoded data removed]",
      "text/plain": [
       "<matplotlib.figure.Figure at 0x1a25245748>"
      ]
     },
     "metadata": {},
     "output_type": "display_data"
    }
   ],
   "source": [
    "# dif in percentage points between similar team win rate & overall win rate\n",
    "# (> 0 ) means team is more likely to win against similar opponents\n",
    "\n",
    "import matplotlib.pyplot as plt\n",
    "fig1, ax1 = plt.subplots()\n",
    "ax1.set_title('TEAM 1 Difference in Win Rate: Overall vs Similar Opponents')\n",
    "ax1.boxplot(tourney_df.loc[tourney_df['team1_win_rate_dif'].notnull()]['team1_win_rate_dif'])\n",
    "plt.show()"
   ]
  },
  {
   "cell_type": "code",
   "execution_count": 29,
   "metadata": {},
   "outputs": [
    {
     "data": {
      "image/png": "[encoded data removed]",
      "text/plain": [
       "<matplotlib.figure.Figure at 0x1a25e2fc18>"
      ]
     },
     "metadata": {},
     "output_type": "display_data"
    }
   ],
   "source": [
    "fig1, ax1 = plt.subplots()\n",
    "ax1.set_title('TEAM 2 Difference in Win Rate: Overall vs Similar Opponents')\n",
    "ax1.boxplot(tourney_df.loc[tourney_df['team2_win_rate_dif'].notnull()]['team2_win_rate_dif'])\n",
    "plt.show()"
   ]
  },
  {
   "cell_type": "code",
   "execution_count": 30,
   "metadata": {},
   "outputs": [
    {
     "data": {
      "text/html": [
       "<div>\n",
       "<style scoped>\n",
       "    .dataframe tbody tr th:only-of-type {\n",
       "        vertical-align: middle;\n",
       "    }\n",
       "\n",
       "    .dataframe tbody tr th {\n",
       "        vertical-align: top;\n",
       "    }\n",
       "\n",
       "    .dataframe thead th {\n",
       "        text-align: right;\n",
       "    }\n",
       "</style>\n",
       "<table border=\"1\" class=\"dataframe\">\n",
       "  <thead>\n",
       "    <tr style=\"text-align: right;\">\n",
       "      <th></th>\n",
       "      <th>team1_TeamName</th>\n",
       "      <th>team2_TeamName</th>\n",
       "      <th>team1_WP</th>\n",
       "      <th>team2_WP</th>\n",
       "      <th>team1_pct_wins_similar</th>\n",
       "      <th>team2_pct_wins_similar</th>\n",
       "      <th>team1_n_wins_similar</th>\n",
       "      <th>team2_n_wins_similar</th>\n",
       "      <th>outcome</th>\n",
       "      <th>team1_Seed</th>\n",
       "      <th>team2_Seed</th>\n",
       "    </tr>\n",
       "  </thead>\n",
       "  <tbody>\n",
       "    <tr>\n",
       "      <th>1055</th>\n",
       "      <td>N Dakota St</td>\n",
       "      <td>Duke</td>\n",
       "      <td>0.516129</td>\n",
       "      <td>0.852941</td>\n",
       "      <td>0.000000</td>\n",
       "      <td>1.000000</td>\n",
       "      <td>0</td>\n",
       "      <td>9</td>\n",
       "      <td>L</td>\n",
       "      <td>16</td>\n",
       "      <td>1</td>\n",
       "    </tr>\n",
       "    <tr>\n",
       "      <th>1067</th>\n",
       "      <td>UCF</td>\n",
       "      <td>Duke</td>\n",
       "      <td>0.741935</td>\n",
       "      <td>0.852941</td>\n",
       "      <td>0.636364</td>\n",
       "      <td>0.818182</td>\n",
       "      <td>7</td>\n",
       "      <td>9</td>\n",
       "      <td>L</td>\n",
       "      <td>9</td>\n",
       "      <td>1</td>\n",
       "    </tr>\n",
       "    <tr>\n",
       "      <th>1072</th>\n",
       "      <td>Virginia Tech</td>\n",
       "      <td>Duke</td>\n",
       "      <td>0.750000</td>\n",
       "      <td>0.852941</td>\n",
       "      <td>0.545455</td>\n",
       "      <td>0.692308</td>\n",
       "      <td>6</td>\n",
       "      <td>9</td>\n",
       "      <td>L</td>\n",
       "      <td>4</td>\n",
       "      <td>1</td>\n",
       "    </tr>\n",
       "    <tr>\n",
       "      <th>1076</th>\n",
       "      <td>Duke</td>\n",
       "      <td>Michigan St</td>\n",
       "      <td>0.852941</td>\n",
       "      <td>0.823529</td>\n",
       "      <td>0.727273</td>\n",
       "      <td>0.583333</td>\n",
       "      <td>8</td>\n",
       "      <td>7</td>\n",
       "      <td>L</td>\n",
       "      <td>1</td>\n",
       "      <td>2</td>\n",
       "    </tr>\n",
       "  </tbody>\n",
       "</table>\n",
       "</div>"
      ],
      "text/plain": [
       "     team1_TeamName team2_TeamName  team1_WP  team2_WP  \\\n",
       "1055    N Dakota St           Duke  0.516129  0.852941   \n",
       "1067            UCF           Duke  0.741935  0.852941   \n",
       "1072  Virginia Tech           Duke  0.750000  0.852941   \n",
       "1076           Duke    Michigan St  0.852941  0.823529   \n",
       "\n",
       "      team1_pct_wins_similar  team2_pct_wins_similar  team1_n_wins_similar  \\\n",
       "1055                0.000000                1.000000                     0   \n",
       "1067                0.636364                0.818182                     7   \n",
       "1072                0.545455                0.692308                     6   \n",
       "1076                0.727273                0.583333                     8   \n",
       "\n",
       "      team2_n_wins_similar outcome  team1_Seed  team2_Seed  \n",
       "1055                     9       L          16           1  \n",
       "1067                     9       L           9           1  \n",
       "1072                     9       L           4           1  \n",
       "1076                     7       L           1           2  "
      ]
     },
     "execution_count": 30,
     "metadata": {},
     "output_type": "execute_result"
    }
   ],
   "source": [
    "# check out 2019 tourney games for Duke\n",
    "tourney_df.loc[(tourney_df.Season == 2019) & \n",
    "    ((tourney_df.team1_TeamName=='Duke') | (tourney_df.team2_TeamName =='Duke'))][['team1_TeamName',\n",
    "                                                                                    'team2_TeamName',\n",
    "                                                                                   'team1_WP',\n",
    "                                                                                   'team2_WP',\n",
    "                                                                                    'team1_pct_wins_similar',\n",
    "                                                                                   'team2_pct_wins_similar',\n",
    "                                                                                   'team1_n_wins_similar',\n",
    "                                                                                   'team2_n_wins_similar',\n",
    "                                                                                  'outcome',\n",
    "                                                                                  'team1_Seed',\n",
    "                                                                                  'team2_Seed']]"
   ]
  },
  {
   "cell_type": "code",
   "execution_count": 20,
   "metadata": {},
   "outputs": [],
   "source": [
    "tourney_df.to_csv(our_data_dir + 'tourney_df_w_similar_opponent_scores.csv',index=False)"
   ]
  },
  {
   "cell_type": "code",
   "execution_count": 21,
   "metadata": {},
   "outputs": [
    {
     "data": {
      "text/plain": [
       "count    1078.000000\n",
       "mean        6.845083\n",
       "std         3.124339\n",
       "min         0.000000\n",
       "25%         5.000000\n",
       "50%         7.000000\n",
       "75%         9.000000\n",
       "max        15.000000\n",
       "Name: team1_n_wins_similar, dtype: float64"
      ]
     },
     "execution_count": 21,
     "metadata": {},
     "output_type": "execute_result"
    }
   ],
   "source": [
    "tourney_df.team1_n_wins_similar.describe()"
   ]
  },
  {
   "cell_type": "code",
   "execution_count": 22,
   "metadata": {},
   "outputs": [
    {
     "data": {
      "text/plain": [
       "count    1078.000000\n",
       "mean        6.649351\n",
       "std         3.079186\n",
       "min         0.000000\n",
       "25%         5.000000\n",
       "50%         7.000000\n",
       "75%         9.000000\n",
       "max        15.000000\n",
       "Name: team2_n_wins_similar, dtype: float64"
      ]
     },
     "execution_count": 22,
     "metadata": {},
     "output_type": "execute_result"
    }
   ],
   "source": [
    "tourney_df.team2_n_wins_similar.describe()"
   ]
  },
  {
   "cell_type": "code",
   "execution_count": 23,
   "metadata": {},
   "outputs": [
    {
     "data": {
      "text/plain": [
       "count    1063.000000\n",
       "mean       -0.121422\n",
       "std         0.162512\n",
       "min        -0.843750\n",
       "25%        -0.200529\n",
       "50%        -0.105991\n",
       "75%        -0.024352\n",
       "max         0.303030\n",
       "Name: team1_win_rate_dif, dtype: float64"
      ]
     },
     "execution_count": 23,
     "metadata": {},
     "output_type": "execute_result"
    }
   ],
   "source": [
    "tourney_df['team1_win_rate_dif'].describe()"
   ]
  },
  {
   "cell_type": "code",
   "execution_count": 24,
   "metadata": {},
   "outputs": [
    {
     "data": {
      "text/plain": [
       "count    1067.000000\n",
       "mean       -0.129497\n",
       "std         0.168747\n",
       "min        -0.909091\n",
       "25%        -0.207071\n",
       "50%        -0.114583\n",
       "75%        -0.023841\n",
       "max         0.333333\n",
       "Name: team2_win_rate_dif, dtype: float64"
      ]
     },
     "execution_count": 24,
     "metadata": {},
     "output_type": "execute_result"
    }
   ],
   "source": [
    "tourney_df['team2_win_rate_dif'].describe()"
   ]
  },
  {
   "cell_type": "code",
   "execution_count": null,
   "metadata": {},
   "outputs": [],
   "source": []
  },
  {
   "cell_type": "code",
   "execution_count": null,
   "metadata": {},
   "outputs": [],
   "source": []
  }
 ],
 "metadata": {
  "kernelspec": {
   "display_name": "Python 3",
   "language": "python",
   "name": "python3"
  }
 },
 "nbformat": 4,
 "nbformat_minor": 2
}
